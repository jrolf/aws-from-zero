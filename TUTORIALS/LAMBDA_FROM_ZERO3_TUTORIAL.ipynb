{
 "cells": [
  {
   "cell_type": "code",
   "execution_count": 1,
   "id": "68552e95",
   "metadata": {},
   "outputs": [],
   "source": [
    "#pip install --upgrade boto3"
   ]
  },
  {
   "cell_type": "code",
   "execution_count": 2,
   "id": "efe9fb16",
   "metadata": {},
   "outputs": [],
   "source": [
    "import zipfile,subprocess,shutil\n",
    "import json,time,os,sys\n",
    "import boto3 "
   ]
  },
  {
   "cell_type": "code",
   "execution_count": 3,
   "id": "0714d359",
   "metadata": {},
   "outputs": [],
   "source": [
    "#############################################################################\n",
    "#############################################################################"
   ]
  },
  {
   "cell_type": "code",
   "execution_count": 4,
   "id": "f7d95a6e",
   "metadata": {},
   "outputs": [],
   "source": [
    "# Specify your AWS credentials directly (avoid this in production; use IAM roles or environment variables)\n",
    "aws_access_key_id     = 'blablabla'\n",
    "aws_secret_access_key = 'blablabla'\n",
    "aws_region            = 'us-east-1' \n",
    "aws_role  =   'arn:aws:iam::1111111111:role/misc-admin-role' "
   ]
  },
  {
   "cell_type": "code",
   "execution_count": 5,
   "id": "138c7162",
   "metadata": {},
   "outputs": [],
   "source": [
    "#############################################################################\n",
    "#############################################################################"
   ]
  },
  {
   "cell_type": "code",
   "execution_count": 6,
   "id": "052f4341",
   "metadata": {},
   "outputs": [],
   "source": [
    "#-------------------------------------------------------------\n",
    "\n",
    "FP, FN = 'FILES/','lambda_func.py'   #<<<<<<<<<<<<<<<<<<<<<<<<\n",
    "lambda_func  = 'JamesTestFuncZ'      #<<<<<<<<<<<<<<<<<<<<<<<< \n",
    "\n",
    "#-------------------------------------------------------------\n",
    "\n",
    "LamFuncCode = '''\n",
    "\n",
    "def lambda_handler(event, context):\n",
    "    return {\n",
    "        'statusCode': 200,\n",
    "        'body': 'Hello from Lambda! My name is James!'\n",
    "    }\n",
    "'''\n",
    "\n",
    "#-------------------------------------------------------------\n",
    "\n",
    "handler_name = FN.replace('.py','.lambda_handler') \n",
    "\n",
    "with open(FP+FN, 'w') as file: \n",
    "    file.write(LamFuncCode)\n",
    "\n",
    "# Define the file name and path\n",
    "source_file = FP+FN\n",
    "zip_file    = source_file.replace('.py','.zip') \n",
    "\n",
    "# Create a new zip file and add the source file to it\n",
    "with zipfile.ZipFile(zip_file, 'w') as zipf: \n",
    "    zipf.write(source_file, arcname=FN)  \n",
    "    \n",
    "#------------------------------------------------------------- "
   ]
  },
  {
   "cell_type": "code",
   "execution_count": 7,
   "id": "7155f1d6",
   "metadata": {},
   "outputs": [],
   "source": [
    "#############################################################################\n",
    "#############################################################################"
   ]
  },
  {
   "cell_type": "code",
   "execution_count": 8,
   "id": "edbe1b0c",
   "metadata": {},
   "outputs": [
    {
     "name": "stdout",
     "output_type": "stream",
     "text": [
      "Done.\n"
     ]
    }
   ],
   "source": [
    "# Initialize a boto3 client\n",
    "lambda_client = boto3.client(\n",
    "    'lambda',\n",
    "    region_name           = aws_region,\n",
    "    aws_access_key_id     = aws_access_key_id,\n",
    "    aws_secret_access_key = aws_secret_access_key\n",
    ") \n",
    "\n",
    "# Path to the ZIP file containing your Lambda function code\n",
    "zip_file_path = str(zip_file) \n",
    "\n",
    "# Read the zip file as binary code to upload\n",
    "with open(zip_file_path, 'rb') as f:\n",
    "    zipped_code = f.read()\n",
    "\n",
    "# Create the Lambda function\n",
    "response = lambda_client.create_function(\n",
    "    FunctionName = lambda_func, Runtime = 'python3.8', Role = aws_role,\n",
    "    Handler     = handler_name,  \n",
    "    Code        = dict(ZipFile=zipped_code),\n",
    "    Description = 'A sample Lambda function. - James',\n",
    "    Timeout     = 30,      # Maximum allowable timeout\n",
    "    MemorySize  = 128,  # Allocated memory in MB       \n",
    ")\n",
    "\n",
    "print('Done.') "
   ]
  },
  {
   "cell_type": "code",
   "execution_count": 9,
   "id": "79c136ba",
   "metadata": {},
   "outputs": [
    {
     "name": "stdout",
     "output_type": "stream",
     "text": [
      "{'ResponseMetadata': {'RequestId': '81c1a4bf-fb17-42e9-9909-fa80637e31ac', 'HTTPStatusCode': 201, 'HTTPHeaders': {'date': 'Wed, 15 May 2024 21:10:04 GMT', 'content-type': 'application/json', 'content-length': '1358', 'connection': 'keep-alive', 'x-amzn-requestid': '81c1a4bf-fb17-42e9-9909-fa80637e31ac'}, 'RetryAttempts': 0}, 'FunctionName': 'JamesTestFuncZ', 'FunctionArn': 'arn:aws:lambda:us-east-1:590183695003:function:JamesTestFuncZ', 'Runtime': 'python3.8', 'Role': 'arn:aws:iam::590183695003:role/james-admin-role', 'Handler': 'lambda_func.lambda_handler', 'CodeSize': 265, 'Description': 'A sample Lambda function. - James', 'Timeout': 30, 'MemorySize': 128, 'LastModified': '2024-05-15T21:10:04.625+0000', 'CodeSha256': 'kyu8ZzNKOSi56kQbi/T+gxUZirh4bg3FgZub/BqZJrA=', 'Version': '$LATEST', 'TracingConfig': {'Mode': 'PassThrough'}, 'RevisionId': '58d0785d-d32f-4138-a830-4a45022a86db', 'State': 'Pending', 'StateReason': 'The function is being created.', 'StateReasonCode': 'Creating', 'PackageType': 'Zip', 'Architectures': ['x86_64'], 'EphemeralStorage': {'Size': 512}, 'SnapStart': {'ApplyOn': 'None', 'OptimizationStatus': 'Off'}, 'RuntimeVersionConfig': {'RuntimeVersionArn': 'arn:aws:lambda:us-east-1::runtime:830ab1165f1cdc47b8ae1e516f3936d8a176aec50d0699efd25a8bfeabb797b4'}, 'LoggingConfig': {'LogFormat': 'Text', 'LogGroup': '/aws/lambda/JamesTestFuncZ'}}\n"
     ]
    }
   ],
   "source": [
    "print(response) "
   ]
  },
  {
   "cell_type": "code",
   "execution_count": 10,
   "id": "cdec4c11",
   "metadata": {},
   "outputs": [],
   "source": [
    "#############################################################################\n",
    "#############################################################################"
   ]
  },
  {
   "cell_type": "code",
   "execution_count": 11,
   "id": "be74329c",
   "metadata": {},
   "outputs": [
    {
     "name": "stdout",
     "output_type": "stream",
     "text": [
      "Function Name: JamesTestFunc1\n",
      "Runtime: python3.8\n",
      "Description: \n",
      "Last Modified: 2024-05-15T01:11:43.000+0000\n",
      "Memory Size: 128 MB\n",
      "Timeout: 3 seconds\n",
      "----------------------------------------\n",
      "Function Name: JamesTestFunc2\n",
      "Runtime: python3.8\n",
      "Description: A sample Lambda function. - James\n",
      "Last Modified: 2024-05-15T02:15:19.130+0000\n",
      "Memory Size: 128 MB\n",
      "Timeout: 30 seconds\n",
      "----------------------------------------\n",
      "Function Name: JamesTestFuncZ\n",
      "Runtime: python3.8\n",
      "Description: A sample Lambda function. - James\n",
      "Last Modified: 2024-05-15T21:10:04.625+0000\n",
      "Memory Size: 128 MB\n",
      "Timeout: 30 seconds\n",
      "----------------------------------------\n",
      "Function Name: JamesTestFunc3\n",
      "Runtime: python3.8\n",
      "Description: A sample Lambda function. - James\n",
      "Last Modified: 2024-05-15T02:59:32.690+0000\n",
      "Memory Size: 128 MB\n",
      "Timeout: 30 seconds\n",
      "----------------------------------------\n"
     ]
    }
   ],
   "source": [
    "# Initialize a boto3 client for Lambda\n",
    "lambda_client = boto3.client(\n",
    "    'lambda',\n",
    "    region_name           = aws_region,\n",
    "    aws_access_key_id     = aws_access_key_id,\n",
    "    aws_secret_access_key = aws_secret_access_key\n",
    ") \n",
    "\n",
    "# List all Lambda functions\n",
    "response = lambda_client.list_functions()\n",
    "\n",
    "# Iterate through the list of functions and print their details\n",
    "for function in response['Functions']:\n",
    "    print(f\"Function Name: {function['FunctionName']}\")\n",
    "    print(f\"Runtime: {function['Runtime']}\")\n",
    "    print(f\"Description: {function.get('Description', 'No description provided')}\")\n",
    "    print(f\"Last Modified: {function['LastModified']}\")\n",
    "    print(f\"Memory Size: {function['MemorySize']} MB\") \n",
    "    print(f\"Timeout: {function['Timeout']} seconds\")\n",
    "    print(\"-\" * 40)  "
   ]
  },
  {
   "cell_type": "code",
   "execution_count": 12,
   "id": "71f91d14",
   "metadata": {},
   "outputs": [],
   "source": [
    "#############################################################################\n",
    "#############################################################################"
   ]
  },
  {
   "cell_type": "code",
   "execution_count": 13,
   "id": "57e8be79",
   "metadata": {},
   "outputs": [],
   "source": [
    "NOTES = '''\n",
    "\n",
    "### HOW TO DELETE LAMBDA FUNCTIONS:\n",
    "\n",
    "# List of Lambda functions to delete\n",
    "functions_to_delete = ['JamesTestFunc2', 'JamesTestFunc3']\n",
    "\n",
    "lambda_client = boto3.client(\n",
    "    'lambda',\n",
    "    region_name           = aws_region,\n",
    "    aws_access_key_id     = aws_access_key_id,\n",
    "    aws_secret_access_key = aws_secret_access_key\n",
    ")  \n",
    "\n",
    "# Iterate through the list and delete each function\n",
    "for func_name in functions_to_delete:\n",
    "    try:\n",
    "        response = lambda_client.delete_function(FunctionName=func_name)\n",
    "        print(f\"Successfully deleted {func_name}\")\n",
    "    except Exception as e:\n",
    "        print(f\"Failed to delete {func_name}: {str(e)}\")\n",
    "        \n",
    "# Successfully deleted JamesTestFunc2\n",
    "# Successfully deleted JamesTestFunc3 \n",
    "\n",
    "'''"
   ]
  },
  {
   "cell_type": "code",
   "execution_count": 14,
   "id": "943a4bbd",
   "metadata": {},
   "outputs": [],
   "source": [
    "#############################################################################\n",
    "#############################################################################"
   ]
  },
  {
   "cell_type": "code",
   "execution_count": 15,
   "id": "48fa8315",
   "metadata": {},
   "outputs": [],
   "source": [
    "time.sleep(5) # Sleep for 5 seconds  "
   ]
  },
  {
   "cell_type": "code",
   "execution_count": 16,
   "id": "9ff0e9ed",
   "metadata": {},
   "outputs": [],
   "source": [
    "### HOW TO CALL THE EXISTING LAMBDA FUNCTIONS: \n",
    "\n",
    "lambda_client = boto3.client(\n",
    "    'lambda',\n",
    "    region_name           = aws_region,\n",
    "    aws_access_key_id     = aws_access_key_id,\n",
    "    aws_secret_access_key = aws_secret_access_key\n",
    ")  \n",
    "\n",
    "# Prepare your payload (ensure this matches what your Lambda function expects)\n",
    "payload = json.dumps({\n",
    "    \"key1\": \"value1\",\n",
    "    \"key2\": \"value2\"\n",
    "})\n",
    "\n",
    "# Invoke the Lambda function\n",
    "response = lambda_client.invoke(\n",
    "    FunctionName   = lambda_func,        # Replace with your Lambda function's name\n",
    "    InvocationType = 'RequestResponse',  # Use 'Event' for asynchronous execution\n",
    "    Payload = payload\n",
    ") \n",
    "\n",
    "# Parse the response payload\n",
    "response_payload = json.loads(response['Payload'].read())  "
   ]
  },
  {
   "cell_type": "code",
   "execution_count": 17,
   "id": "ac10ef6e",
   "metadata": {},
   "outputs": [
    {
     "name": "stdout",
     "output_type": "stream",
     "text": [
      "{'statusCode': 200, 'body': 'Hello from Lambda! My name is James!'}\n"
     ]
    }
   ],
   "source": [
    "# Print the response\n",
    "print(response_payload) "
   ]
  },
  {
   "cell_type": "code",
   "execution_count": null,
   "id": "4160112d",
   "metadata": {},
   "outputs": [],
   "source": [
    "#############################################################################\n",
    "#############################################################################"
   ]
  },
  {
   "cell_type": "code",
   "execution_count": null,
   "id": "8df8e21c",
   "metadata": {},
   "outputs": [],
   "source": [
    "#############################################################################\n",
    "#############################################################################"
   ]
  },
  {
   "cell_type": "code",
   "execution_count": null,
   "id": "d7d5f4ce",
   "metadata": {},
   "outputs": [],
   "source": []
  },
  {
   "cell_type": "code",
   "execution_count": null,
   "id": "1c2628a2",
   "metadata": {},
   "outputs": [],
   "source": []
  },
  {
   "cell_type": "code",
   "execution_count": null,
   "id": "84dfdf3f",
   "metadata": {},
   "outputs": [],
   "source": []
  },
  {
   "cell_type": "code",
   "execution_count": null,
   "id": "58cd444a",
   "metadata": {},
   "outputs": [],
   "source": []
  },
  {
   "cell_type": "code",
   "execution_count": null,
   "id": "829478e4",
   "metadata": {},
   "outputs": [],
   "source": []
  },
  {
   "cell_type": "code",
   "execution_count": null,
   "id": "7ab922ba",
   "metadata": {},
   "outputs": [],
   "source": []
  },
  {
   "cell_type": "code",
   "execution_count": null,
   "id": "6ceb7a7f",
   "metadata": {},
   "outputs": [],
   "source": []
  },
  {
   "cell_type": "code",
   "execution_count": null,
   "id": "d56bc63d",
   "metadata": {},
   "outputs": [],
   "source": []
  },
  {
   "cell_type": "code",
   "execution_count": null,
   "id": "9d803697",
   "metadata": {},
   "outputs": [],
   "source": []
  },
  {
   "cell_type": "code",
   "execution_count": null,
   "id": "30f3463f",
   "metadata": {},
   "outputs": [],
   "source": []
  },
  {
   "cell_type": "code",
   "execution_count": null,
   "id": "182a566f",
   "metadata": {},
   "outputs": [],
   "source": []
  },
  {
   "cell_type": "code",
   "execution_count": null,
   "id": "cdc5d044",
   "metadata": {},
   "outputs": [],
   "source": []
  },
  {
   "cell_type": "code",
   "execution_count": 18,
   "id": "e3ef8bc7",
   "metadata": {},
   "outputs": [],
   "source": [
    "#."
   ]
  },
  {
   "cell_type": "code",
   "execution_count": null,
   "id": "88bcc906",
   "metadata": {},
   "outputs": [],
   "source": []
  }
 ],
 "metadata": {
  "kernelspec": {
   "display_name": "Python 3",
   "language": "python",
   "name": "python3"
  },
  "language_info": {
   "codemirror_mode": {
    "name": "ipython",
    "version": 3
   },
   "file_extension": ".py",
   "mimetype": "text/x-python",
   "name": "python",
   "nbconvert_exporter": "python",
   "pygments_lexer": "ipython3",
   "version": "3.8.8"
  }
 },
 "nbformat": 4,
 "nbformat_minor": 5
}

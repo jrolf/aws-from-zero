{
 "cells": [
  {
   "cell_type": "code",
   "execution_count": 1,
   "id": "68552e95",
   "metadata": {},
   "outputs": [],
   "source": [
    "#pip install --upgrade boto3"
   ]
  },
  {
   "cell_type": "code",
   "execution_count": 2,
   "id": "efe9fb16",
   "metadata": {},
   "outputs": [],
   "source": [
    "import zipfile,json,time,io\n",
    "import boto3\n",
    "from   botocore.exceptions import NoCredentialsError, ClientError"
   ]
  },
  {
   "cell_type": "code",
   "execution_count": 3,
   "id": "b52d0cf3",
   "metadata": {},
   "outputs": [],
   "source": [
    "import numpy  as np\n",
    "import pandas as pd"
   ]
  },
  {
   "cell_type": "code",
   "execution_count": 4,
   "id": "0714d359",
   "metadata": {},
   "outputs": [],
   "source": [
    "#############################################################################\n",
    "#############################################################################"
   ]
  },
  {
   "cell_type": "code",
   "execution_count": 5,
   "id": "f7d95a6e",
   "metadata": {},
   "outputs": [],
   "source": [
    "# Specify your AWS credentials directly (avoid this in production; use IAM roles or environment variables)\n",
    "aws_access_key_id     = 'blablabla'\n",
    "aws_secret_access_key = 'blablabla'\n",
    "aws_region            = 'us-east-1' \n",
    "aws_role  =   'arn:aws:iam::1111111111:role/misc-admin-role'  "
   ]
  },
  {
   "cell_type": "code",
   "execution_count": 6,
   "id": "138c7162",
   "metadata": {},
   "outputs": [],
   "source": [
    "#############################################################################\n",
    "#############################################################################"
   ]
  },
  {
   "cell_type": "code",
   "execution_count": 7,
   "id": "58677361",
   "metadata": {},
   "outputs": [],
   "source": [
    "s3_client = boto3.client(\n",
    "    's3',\n",
    "    region_name           = aws_region,\n",
    "    aws_access_key_id     = aws_access_key_id,\n",
    "    aws_secret_access_key = aws_secret_access_key,\n",
    "    # Explicitly specifying endpoint for us-east-1:\n",
    "    endpoint_url          ='https://s3.amazonaws.com'  \n",
    ") \n",
    "\n",
    "def list_all_buckets():\n",
    "    try:\n",
    "        response = s3_client.list_buckets()\n",
    "        buckets = [bucket['Name'] for bucket in response['Buckets']]\n",
    "        return buckets\n",
    "    except ClientError as e:\n",
    "        print(f\"Error listing buckets: {e}\")\n",
    "        return []\n",
    "\n",
    "def create_bucket(bucket_name, region='us-east-1'):\n",
    "    try:\n",
    "        if region == 'us-east-1':\n",
    "            s3_client.create_bucket(Bucket=bucket_name)\n",
    "        else:\n",
    "            location = {'LocationConstraint': region}\n",
    "            s3_client.create_bucket(Bucket=bucket_name, CreateBucketConfiguration=location)\n",
    "        print(f\"Bucket {bucket_name} created successfully in region {region}.\")\n",
    "    except ClientError as e:\n",
    "        print(f\"Error creating bucket: {e}\")\n",
    "        \n",
    "#delete_bucket('james-bucket-72') \n",
    "def delete_bucket(bucket_name):\n",
    "    try:\n",
    "        # List and delete all objects in the bucket\n",
    "        response = s3_client.list_objects_v2(Bucket=bucket_name)\n",
    "        if 'Contents' in response:\n",
    "            for obj in response['Contents']:\n",
    "                s3_client.delete_object(Bucket=bucket_name, Key=obj['Key'])\n",
    "        \n",
    "        # Delete the bucket\n",
    "        s3_client.delete_bucket(Bucket=bucket_name)\n",
    "        print(f\"Bucket {bucket_name} deleted successfully.\")\n",
    "    except ClientError as e:\n",
    "        print(f\"Error deleting bucket: {e}\")\n",
    "        \n"
   ]
  },
  {
   "cell_type": "code",
   "execution_count": 8,
   "id": "1c8b7407",
   "metadata": {},
   "outputs": [],
   "source": [
    "#############################################################################\n",
    "#############################################################################"
   ]
  },
  {
   "cell_type": "code",
   "execution_count": 9,
   "id": "69229842",
   "metadata": {},
   "outputs": [
    {
     "name": "stdout",
     "output_type": "stream",
     "text": [
      "Bucket misc-bucket-17 created successfully in region us-east-1.\n"
     ]
    }
   ],
   "source": [
    "### CREATE A NEW BUCKET:\n",
    "bucket_name = \"misc-bucket-17\"\n",
    "create_bucket(bucket_name,aws_region) "
   ]
  },
  {
   "cell_type": "code",
   "execution_count": 10,
   "id": "d9fea693",
   "metadata": {},
   "outputs": [
    {
     "data": {
      "text/plain": [
       "['james-bucket-17', 'misc-bucket-17']"
      ]
     },
     "execution_count": 10,
     "metadata": {},
     "output_type": "execute_result"
    }
   ],
   "source": [
    "### LIST ALL EXISTING BUCKETS:\n",
    "list_all_buckets() "
   ]
  },
  {
   "cell_type": "code",
   "execution_count": 11,
   "id": "9445592d",
   "metadata": {},
   "outputs": [],
   "source": [
    "#############################################################################\n",
    "#############################################################################"
   ]
  },
  {
   "cell_type": "code",
   "execution_count": 12,
   "id": "4ddf18ad",
   "metadata": {},
   "outputs": [],
   "source": [
    "# Initialize the S3 client\n",
    "s3_client = boto3.client(\n",
    "    's3',\n",
    "    region_name=aws_region,\n",
    "    aws_access_key_id=aws_access_key_id,\n",
    "    aws_secret_access_key=aws_secret_access_key,\n",
    "    # Explicitly specifying endpoint for us-east-1 :\n",
    "    endpoint_url='https://s3.amazonaws.com'  \n",
    ")\n",
    "\n",
    "def write_s3_file(bucket_name, object_name, data, source_format=''):\n",
    "    if not source_format:\n",
    "        source_format = object_name.split('.')[-1] \n",
    "    try:\n",
    "        if source_format == 'txt':\n",
    "            s3_client.put_object(Bucket=bucket_name, Key=object_name, Body=data)\n",
    "            print(f\"Text file uploaded to {bucket_name}/{object_name}.\")\n",
    "        \n",
    "        elif source_format == 'csv':\n",
    "            csv_buffer = io.StringIO()\n",
    "            data.to_csv(csv_buffer, index=False)\n",
    "            s3_client.put_object(Bucket=bucket_name, Key=object_name, Body=csv_buffer.getvalue())\n",
    "            print(f\"CSV file uploaded to {bucket_name}/{object_name}.\")\n",
    "        \n",
    "        elif source_format == 'xlsx':\n",
    "            excel_buffer = io.BytesIO()\n",
    "            with pd.ExcelWriter(excel_buffer, engine='xlsxwriter') as writer:\n",
    "                data.to_excel(writer, index=False)\n",
    "            s3_client.put_object(Bucket=bucket_name, Key=object_name, Body=excel_buffer.getvalue())\n",
    "            print(f\"Excel file uploaded to {bucket_name}/{object_name}.\")\n",
    "        \n",
    "        elif source_format == 'json':\n",
    "            json_data = json.dumps(data)\n",
    "            s3_client.put_object(Bucket=bucket_name, Key=object_name, Body=json_data)\n",
    "            print(f\"JSON file uploaded to {bucket_name}/{object_name}.\")\n",
    "        \n",
    "        elif source_format == 'parquet':\n",
    "            parquet_buffer = io.BytesIO()\n",
    "            data.to_parquet(parquet_buffer, index=False)\n",
    "            s3_client.put_object(Bucket=bucket_name, Key=object_name, Body=parquet_buffer.getvalue())\n",
    "            print(f\"Parquet file uploaded to {bucket_name}/{object_name}.\") \n",
    "        \n",
    "        else:\n",
    "            raise ValueError(f\"Unsupported source format: {source_format}\")\n",
    "        \n",
    "    except ClientError as e:\n",
    "        print(f\"Error uploading file to S3: {e}\") \n",
    "        \n",
    "\n",
    "def read_s3_file(bucket_name, object_name):\n",
    "    try:\n",
    "        response = s3_client.get_object(Bucket=bucket_name, Key=object_name)\n",
    "        body = response['Body'].read()\n",
    "\n",
    "        file_extension = object_name.split('.')[-1]\n",
    "\n",
    "        if file_extension == 'txt':\n",
    "            content = body.decode('utf-8')\n",
    "            return content\n",
    "        \n",
    "        elif file_extension == 'csv':\n",
    "            df = pd.read_csv(io.StringIO(body.decode('utf-8')))\n",
    "            return df\n",
    "        \n",
    "        elif file_extension == 'xlsx':\n",
    "            df = pd.read_excel(io.BytesIO(body))\n",
    "            return df\n",
    "        \n",
    "        elif file_extension == 'json':\n",
    "            content = json.loads(body.decode('utf-8'))\n",
    "            return content\n",
    "        \n",
    "        elif file_extension == 'parquet':\n",
    "            df = pd.read_parquet(io.BytesIO(body))\n",
    "            return df\n",
    "        \n",
    "        else:\n",
    "            raise ValueError(f\"Unsupported file extension: {file_extension}\")\n",
    "    \n",
    "    except ClientError as e:\n",
    "        print(f\"Error reading file from S3: {e}\")\n",
    "        return None\n"
   ]
  },
  {
   "cell_type": "code",
   "execution_count": 13,
   "id": "4467a181",
   "metadata": {},
   "outputs": [],
   "source": [
    "#############################################################################\n",
    "#############################################################################"
   ]
  },
  {
   "cell_type": "code",
   "execution_count": 14,
   "id": "25d10c8b",
   "metadata": {},
   "outputs": [],
   "source": [
    "### EXAMPLES OF IMPORTING AND EXPORTING OBJECTS TO/FROM S3"
   ]
  },
  {
   "cell_type": "code",
   "execution_count": 15,
   "id": "f61239a2",
   "metadata": {},
   "outputs": [
    {
     "name": "stdout",
     "output_type": "stream",
     "text": [
      "Text file uploaded to misc-bucket-17/sample.txt.\n"
     ]
    }
   ],
   "source": [
    "# Plain text (TXT) \n",
    "text_data = '''\n",
    "Hello, this is a sample text!\n",
    "With multiple lines!\n",
    "''' \n",
    "write_s3_file(bucket_name, 'sample.txt', text_data)  "
   ]
  },
  {
   "cell_type": "code",
   "execution_count": 16,
   "id": "aac850f8",
   "metadata": {},
   "outputs": [
    {
     "name": "stdout",
     "output_type": "stream",
     "text": [
      "\n",
      "Hello, this is a sample text!\n",
      "With multiple lines!\n",
      "\n"
     ]
    }
   ],
   "source": [
    "# Read TXT file\n",
    "obj = read_s3_file(bucket_name, 'sample.txt') \n",
    "print(obj)   "
   ]
  },
  {
   "cell_type": "code",
   "execution_count": 17,
   "id": "f1039678",
   "metadata": {},
   "outputs": [
    {
     "name": "stdout",
     "output_type": "stream",
     "text": [
      "JSON file uploaded to misc-bucket-17/sample.json.\n"
     ]
    }
   ],
   "source": [
    "# JSON with Python dictionary\n",
    "json_data = {\"Name\": [\"John\", \"Anna\"], \"Age\": [28, 24]}\n",
    "write_s3_file(bucket_name, 'sample.json', json_data)   "
   ]
  },
  {
   "cell_type": "code",
   "execution_count": 18,
   "id": "91f33374",
   "metadata": {},
   "outputs": [
    {
     "name": "stdout",
     "output_type": "stream",
     "text": [
      "{'Name': ['John', 'Anna'], 'Age': [28, 24]}\n"
     ]
    }
   ],
   "source": [
    "# Read JSON file\n",
    "obj = read_s3_file(bucket_name, 'sample.json')\n",
    "print(obj)   "
   ]
  },
  {
   "cell_type": "code",
   "execution_count": 19,
   "id": "9f4b84f4",
   "metadata": {},
   "outputs": [
    {
     "name": "stdout",
     "output_type": "stream",
     "text": [
      "CSV file uploaded to misc-bucket-17/sample.csv.\n"
     ]
    }
   ],
   "source": [
    "# Write CSV file from dataframe\n",
    "csv_data = pd.DataFrame({'Name': ['John', 'Anna'], 'Age': [29, 24]})\n",
    "write_s3_file(bucket_name, 'sample.csv', csv_data)  "
   ]
  },
  {
   "cell_type": "code",
   "execution_count": 20,
   "id": "dc1e4d53",
   "metadata": {},
   "outputs": [
    {
     "name": "stdout",
     "output_type": "stream",
     "text": [
      "   Name  Age\n",
      "0  John   29\n",
      "1  Anna   24\n"
     ]
    }
   ],
   "source": [
    "# Read CSV file\n",
    "obj = read_s3_file(bucket_name, 'sample.csv') \n",
    "print(obj)   "
   ]
  },
  {
   "cell_type": "code",
   "execution_count": 21,
   "id": "6836fade",
   "metadata": {},
   "outputs": [
    {
     "name": "stdout",
     "output_type": "stream",
     "text": [
      "Excel file uploaded to misc-bucket-17/sample.xlsx.\n"
     ]
    }
   ],
   "source": [
    "# Write Excel file from dataframe\n",
    "excel_data = pd.DataFrame({'Name': ['John', 'Anna'], 'Age': [28, 24]})\n",
    "write_s3_file(bucket_name, 'sample.xlsx', excel_data) "
   ]
  },
  {
   "cell_type": "code",
   "execution_count": 22,
   "id": "a8e006c8",
   "metadata": {},
   "outputs": [
    {
     "name": "stdout",
     "output_type": "stream",
     "text": [
      "   Name  Age\n",
      "0  John   28\n",
      "1  Anna   24\n"
     ]
    }
   ],
   "source": [
    "# Read XLSX file\n",
    "obj = read_s3_file(bucket_name, 'sample.xlsx')\n",
    "print(obj)   "
   ]
  },
  {
   "cell_type": "code",
   "execution_count": 23,
   "id": "d75e9b21",
   "metadata": {},
   "outputs": [
    {
     "name": "stdout",
     "output_type": "stream",
     "text": [
      "Parquet file uploaded to misc-bucket-17/sample.parquet.\n"
     ]
    }
   ],
   "source": [
    "# Write Parquet Data\n",
    "parquet_data = pd.DataFrame({'Name': ['John', 'Anna'], 'Age': [25, 24]})\n",
    "write_s3_file(bucket_name, 'sample.parquet', parquet_data) "
   ]
  },
  {
   "cell_type": "code",
   "execution_count": 24,
   "id": "e5da1bf8",
   "metadata": {},
   "outputs": [
    {
     "name": "stdout",
     "output_type": "stream",
     "text": [
      "   Name  Age\n",
      "0  John   25\n",
      "1  Anna   24\n"
     ]
    }
   ],
   "source": [
    "# Read Parquet file\n",
    "obj = read_s3_file(bucket_name, 'sample.parquet')\n",
    "print(obj)   "
   ]
  },
  {
   "cell_type": "code",
   "execution_count": 25,
   "id": "56d45e4d",
   "metadata": {},
   "outputs": [],
   "source": [
    "#############################################################################\n",
    "#############################################################################"
   ]
  },
  {
   "cell_type": "code",
   "execution_count": null,
   "id": "b976ad5f",
   "metadata": {},
   "outputs": [],
   "source": []
  },
  {
   "cell_type": "code",
   "execution_count": null,
   "id": "3e9d6bd6",
   "metadata": {},
   "outputs": [],
   "source": []
  },
  {
   "cell_type": "code",
   "execution_count": null,
   "id": "5a985c34",
   "metadata": {},
   "outputs": [],
   "source": []
  },
  {
   "cell_type": "code",
   "execution_count": null,
   "id": "1874edee",
   "metadata": {},
   "outputs": [],
   "source": []
  },
  {
   "cell_type": "code",
   "execution_count": null,
   "id": "9bf57707",
   "metadata": {},
   "outputs": [],
   "source": []
  },
  {
   "cell_type": "code",
   "execution_count": null,
   "id": "d91662e7",
   "metadata": {},
   "outputs": [],
   "source": []
  },
  {
   "cell_type": "code",
   "execution_count": null,
   "id": "08162a07",
   "metadata": {},
   "outputs": [],
   "source": []
  },
  {
   "cell_type": "code",
   "execution_count": null,
   "id": "180b788d",
   "metadata": {},
   "outputs": [],
   "source": []
  },
  {
   "cell_type": "code",
   "execution_count": null,
   "id": "7e3c1d01",
   "metadata": {},
   "outputs": [],
   "source": []
  },
  {
   "cell_type": "code",
   "execution_count": 26,
   "id": "94157f59",
   "metadata": {},
   "outputs": [],
   "source": [
    "#."
   ]
  },
  {
   "cell_type": "code",
   "execution_count": null,
   "id": "73321ca6",
   "metadata": {},
   "outputs": [],
   "source": []
  },
  {
   "cell_type": "code",
   "execution_count": null,
   "id": "800c193c",
   "metadata": {},
   "outputs": [],
   "source": []
  },
  {
   "cell_type": "code",
   "execution_count": null,
   "id": "e3ef8bc7",
   "metadata": {},
   "outputs": [],
   "source": []
  }
 ],
 "metadata": {
  "kernelspec": {
   "display_name": "Python 3",
   "language": "python",
   "name": "python3"
  },
  "language_info": {
   "codemirror_mode": {
    "name": "ipython",
    "version": 3
   },
   "file_extension": ".py",
   "mimetype": "text/x-python",
   "name": "python",
   "nbconvert_exporter": "python",
   "pygments_lexer": "ipython3",
   "version": "3.8.8"
  }
 },
 "nbformat": 4,
 "nbformat_minor": 5
}
